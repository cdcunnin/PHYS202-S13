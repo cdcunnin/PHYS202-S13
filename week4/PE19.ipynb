{
 "metadata": {
  "name": "PE19"
 },
 "nbformat": 3,
 "nbformat_minor": 0,
 "worksheets": [
  {
   "cells": [
    {
     "cell_type": "markdown",
     "metadata": {},
     "source": [
      "Project Euler Problem 19\n",
      "=====\n",
      "Counting Sundays\n",
      "-----\n",
      "\n",
      "You are given the following information, but you may prefer to do some research for yourself.\n",
      "\n",
      "    1 Jan 1900 was a Monday.\n",
      "    Thirty days has September,\n",
      "    April, June and November.\n",
      "    All the rest have thirty-one,\n",
      "    Saving February alone,\n",
      "    Which has twenty-eight, rain or shine.\n",
      "    And on leap years, twenty-nine.\n",
      "    A leap year occurs on any year evenly divisible by 4, but not on a century unless it is divisible by 400.\n",
      "\n",
      "How many Sundays fell on the first of the month during the twentieth century (1 Jan 1901 to 31 Dec 2000)?\n"
     ]
    },
    {
     "cell_type": "code",
     "collapsed": false,
     "input": [
      "monthdays = [31, 28, 31, 30, 31, 30, 31, 31, 30, 31, 30, 31]\n",
      "\n",
      "\n",
      "    \n",
      "day = month = sundaes = 0\n",
      "\n",
      "\n",
      "for i in range(1901, 2000):\n",
      "    \n",
      "    year = i\n",
      "    monthnow = 0\n",
      "    \n",
      "    if (year%4==0 and year%100 != 0) or year%400==0:\n",
      "        monthdays[1] = 29\n",
      "    \n",
      "    for thing in range(0, sum(months)):\n",
      "       monthnow == monthnow +1\n",
      "       if thing == 0 and day%7 == 0 and year != 1901:\n",
      "            sundaes = sundaes + 1\n",
      "       elif thing >= sum(monthdays[:monthnow + 1]):\n",
      "            monthnow += 1\n",
      "            if day % 7 == 0 and year != 2000:\n",
      "                sundaes = sundaes + 1\n",
      "\n",
      "                \n",
      "print sundaes\n",
      "\n"
     ],
     "language": "python",
     "metadata": {},
     "outputs": [
      {
       "output_type": "stream",
       "stream": "stdout",
       "text": [
        "296\n"
       ]
      }
     ],
     "prompt_number": 15
    },
    {
     "cell_type": "code",
     "collapsed": false,
     "input": [
      "\n",
      "    \n"
     ],
     "language": "python",
     "metadata": {},
     "outputs": [],
     "prompt_number": 10
    },
    {
     "cell_type": "code",
     "collapsed": false,
     "input": [
      "\n"
     ],
     "language": "python",
     "metadata": {},
     "outputs": [],
     "prompt_number": 15
    },
    {
     "cell_type": "code",
     "collapsed": false,
     "input": [],
     "language": "python",
     "metadata": {},
     "outputs": [],
     "prompt_number": 2
    },
    {
     "cell_type": "code",
     "collapsed": false,
     "input": [],
     "language": "python",
     "metadata": {},
     "outputs": []
    }
   ],
   "metadata": {}
  }
 ]
}