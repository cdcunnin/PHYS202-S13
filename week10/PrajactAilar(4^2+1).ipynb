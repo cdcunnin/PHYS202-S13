{
 "metadata": {
  "name": "PrajactAilar(4^2+1)"
 },
 "nbformat": 3,
 "nbformat_minor": 0,
 "worksheets": [
  {
   "cells": [
    {
     "cell_type": "markdown",
     "metadata": {},
     "source": [
      "Problem 17\n",
      "====\n",
      "Number Letter Counts\n",
      "----\n",
      "\n",
      "\n",
      "\n",
      "If the numbers 1 to 5 are written out in words: one, two, three, four, five, then there are 3 + 3 + 5 + 4 + 4 = 19 letters used in total.\n",
      "\n",
      "If all the numbers from 1 to 1000 (one thousand) inclusive were written out in words, how many letters would be used?\n",
      "\n",
      "NOTE: Do not count spaces or hyphens. For example, 342 (three hundred and forty-two) contains 23 letters and 115 (one hundred and fifteen) contains 20 letters. The use of \"and\" when writing out numbers is in compliance with British usage.\n",
      "\n"
     ]
    },
    {
     "cell_type": "markdown",
     "metadata": {},
     "source": []
    },
    {
     "cell_type": "code",
     "collapsed": false,
     "input": [
      "def lettercounter(n):\n",
      "    word=str(n)\n",
      "    s=\"\"\n",
      "    l=len(word)-1\n",
      "    for i in range(0,len(word)):\n",
      "        if i==3:\n",
      "            s+=\"onethousand\"\n",
      "        if i==2:\n",
      "            if word[l-2]==\"1\":\n",
      "                s+=\"onehundredand\"\n",
      "            if word[l-2]==\"2\":\n",
      "                s+=\"twohundredand\"\n",
      "            if word[l-2]==\"3\":\n",
      "                s+=\"threehundredand\"\n",
      "            if word[l-2]==\"4\":\n",
      "                s+=\"fourhundredand\"\n",
      "            if word[l-2]==\"5\":\n",
      "                s+=\"fivehundredand\"\n",
      "            if word[l-2]==\"6\":\n",
      "                s+=\"sixhundredand\"\n",
      "            if word[l-2]==\"7\":\n",
      "                s+=\"sevenhundredand\"\n",
      "            if word[l-2]==\"8\":\n",
      "                s+=\"eighthundredand\"\n",
      "            if word[l-2]==\"9\":\n",
      "                s+=\"ninehundredand\"\n",
      "            if word[l-2]==\"0\":\n",
      "                s+=\"\"\n",
      "        if i==1:\n",
      "            if word[l-1]==\"1\":\n",
      "                if word[l]==\"1\":\n",
      "                    s+=\"eleven\"\n",
      "                if word[l]==\"2\":\n",
      "                    s+=\"twelve\"\n",
      "                if word[l]==\"3\":\n",
      "                    s+=\"thirteen\"\n",
      "                if word[l]==\"4\":\n",
      "                    s+=\"fourteen\"\n",
      "                if word[l]==\"5\":\n",
      "                    s+=\"fifteen\"\n",
      "                if word[l]==\"6\":\n",
      "                    s+=\"sixteen\"\n",
      "                if word[l]==\"7\":\n",
      "                    s+=\"seventeen\"\n",
      "                if word[l]==\"8\":\n",
      "                    s+=\"eighteen\"\n",
      "                if word[l]==\"9\":\n",
      "                    s+=\"nineteen\"\n",
      "                if word[l]==\"0\":\n",
      "                    s+=\"ten\"\n",
      "            if word[l-1]==\"2\":\n",
      "                s+=\"twenty\"\n",
      "            if word[l-1]==\"3\":\n",
      "                s+=\"thirty\"\n",
      "            if word[l-1]==\"4\":\n",
      "                s+=\"forty\"\n",
      "            if word[l-1]==\"5\":\n",
      "                s+=\"fifty\"\n",
      "            if word[l-1]==\"6\":\n",
      "                s+=\"sixty\"\n",
      "            if word[l-1]==\"7\":\n",
      "                s+=\"seventy\"\n",
      "            if word[l-1]==\"8\":\n",
      "                s+=\"eighty\"\n",
      "            if word[l-1]==\"9\":\n",
      "                s+=\"ninety\"\n",
      "            if word[l-1]==\"0\":\n",
      "                s+=\"\"\n",
      "        if i==0 and word[1-1]!=\"1\":\n",
      "            if word[l]==\"1\":\n",
      "                s+=\"one\"\n",
      "            if word[l]==\"2\":\n",
      "                s+=\"two\"\n",
      "            if word[l]==\"3\":\n",
      "                s+=\"three\"\n",
      "            if word[l]==\"4\":\n",
      "                s+=\"four\"\n",
      "            if word[l]==\"5\":\n",
      "                s+=\"five\"\n",
      "            if word[l]==\"6\":\n",
      "                s+=\"six\"\n",
      "            if word[l]==\"7\":\n",
      "                s+=\"seven\"\n",
      "            if word[l]==\"8\":\n",
      "                s+=\"eight\"\n",
      "            if word[l]==\"9\":\n",
      "                s+=\"nine\"\n",
      "            if word[l]==\"0\":\n",
      "                s+=\"\"\n",
      "        if i==0 and word[1-1]==\"1\":\n",
      "            s+=\"\"\n",
      "    length=int(len(s))\n",
      "    return length"
     ],
     "language": "python",
     "metadata": {},
     "outputs": [],
     "prompt_number": 10
    },
    {
     "cell_type": "code",
     "collapsed": false,
     "input": [
      "lettercounter(79876972)"
     ],
     "language": "python",
     "metadata": {},
     "outputs": [
      {
       "output_type": "pyout",
       "prompt_number": 14,
       "text": [
        "35"
       ]
      }
     ],
     "prompt_number": 14
    },
    {
     "cell_type": "code",
     "collapsed": false,
     "input": [
      "lettercounter(42)"
     ],
     "language": "python",
     "metadata": {},
     "outputs": [
      {
       "output_type": "pyout",
       "prompt_number": 15,
       "text": [
        "8"
       ]
      }
     ],
     "prompt_number": 15
    },
    {
     "cell_type": "code",
     "collapsed": false,
     "input": [
      "lettercounter(69)"
     ],
     "language": "python",
     "metadata": {},
     "outputs": [
      {
       "output_type": "pyout",
       "prompt_number": 16,
       "text": [
        "9"
       ]
      }
     ],
     "prompt_number": 16
    },
    {
     "cell_type": "code",
     "collapsed": false,
     "input": [
      "total = 0\n",
      "\n",
      "for i in range (0,1000):\n",
      "    total+=lettercounter(i)\n",
      "    \n",
      "total"
     ],
     "language": "python",
     "metadata": {},
     "outputs": [
      {
       "output_type": "pyout",
       "prompt_number": 17,
       "text": [
        "21101"
       ]
      }
     ],
     "prompt_number": 17
    },
    {
     "cell_type": "code",
     "collapsed": false,
     "input": [],
     "language": "python",
     "metadata": {},
     "outputs": []
    }
   ],
   "metadata": {}
  }
 ]
}