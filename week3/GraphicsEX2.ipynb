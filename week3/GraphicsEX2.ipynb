{
 "metadata": {
  "name": "GraphicsEX2"
 },
 "nbformat": 3,
 "nbformat_minor": 0,
 "worksheets": [
  {
   "cells": [
    {
     "cell_type": "markdown",
     "metadata": {},
     "source": [
      "Problem 1\n",
      "----"
     ]
    },
    {
     "cell_type": "markdown",
     "metadata": {},
     "source": [
      "A)\n",
      "\n",
      "${\\psi}_{k}(x) = A\\left({\\frac{ik - atanh\\left(ax\\right)}{ik + a}}\\right)e^{+ikx}$"
     ]
    },
    {
     "cell_type": "markdown",
     "metadata": {},
     "source": [
      "B)\n",
      "\n",
      "$v_{1} = m_{2}\\sqrt{{\\frac{2G}{M}(\\frac{1}{r} - \\frac{1}{r_{0}})}}$"
     ]
    },
    {
     "cell_type": "markdown",
     "metadata": {},
     "source": [
      "C)\n",
      "\n",
      "$f(\\theta) = \\frac{\\hbar}{p}\\displaystyle\\sum^{\\infty} _{\\ell} (\\ell + 1)e^{i{\\delta} _{\\ell}}{\\sin{\\delta _{\\ell}P _{ell}}({\\cos{\\theta}}})$"
     ]
    },
    {
     "cell_type": "markdown",
     "metadata": {},
     "source": [
      "$\\frac{d\\sigma}{d\\Omega} = \\frac{k{\\pi}^2({\\pi} - {\\theta})}{{mu _0 ^2}{\\theta}^2(2{\\pi}-{\\theta})^2{\\sin{\\theta}}}$"
     ]
    },
    {
     "cell_type": "markdown",
     "metadata": {},
     "source": [
      "${\\langle}f{\\rangle} = \\frac{1}{\\tau}\\int _0 ^{\\tau} f(t) dt$"
     ]
    },
    {
     "cell_type": "markdown",
     "metadata": {},
     "source": [
      "${\\Omega}_S = {\\omega}\\frac{\\sin{\\alpha}}{\\sin{\\theta}} = \\frac{L}{\\lambda _1} = "
     ]
    },
    {
     "cell_type": "markdown",
     "metadata": {},
     "source": [
      "$\\omega\\frac{\\sqrt{{\\lambda}_3 ^2 + ({\\lambda}_1 ^2 - {\\lambda}_3 ^2){\\sin{\\alpha}}}{{\\lambda}_1}$"
     ]
    },
    {
     "cell_type": "code",
     "collapsed": false,
     "input": [],
     "language": "python",
     "metadata": {},
     "outputs": []
    }
   ],
   "metadata": {}
  }
 ]
}