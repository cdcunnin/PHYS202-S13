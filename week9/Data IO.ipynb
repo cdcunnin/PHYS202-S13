{
 "metadata": {
  "name": "Data IO"
 },
 "nbformat": 3,
 "nbformat_minor": 0,
 "worksheets": [
  {
   "cells": [
    {
     "cell_type": "code",
     "collapsed": false,
     "input": [
      "DataIn = loadtxt(\"input.dat\")\n",
      "print DataIn.shape\n",
      "print DataIn"
     ],
     "language": "python",
     "metadata": {},
     "outputs": [
      {
       "output_type": "stream",
       "stream": "stdout",
       "text": [
        "(5, 3)\n",
        "[[ 0.   1.1  0.1]\n",
        " [ 2.   1.9  0.2]\n",
        " [ 4.   3.2  0.1]\n",
        " [ 6.   4.   0.3]\n",
        " [ 8.   5.9  0.3]]\n"
       ]
      }
     ],
     "prompt_number": 1
    },
    {
     "cell_type": "code",
     "collapsed": false,
     "input": [
      "print DataIn[:,2]"
     ],
     "language": "python",
     "metadata": {},
     "outputs": [
      {
       "output_type": "stream",
       "stream": "stdout",
       "text": [
        "[ 0.1  0.2  0.1  0.3  0.3]\n"
       ]
      }
     ],
     "prompt_number": 2
    },
    {
     "cell_type": "code",
     "collapsed": false,
     "input": [
      "x,y,yerr= loadtxt(\"input.dat\",unpack=True)\n",
      "print x\n",
      "print y\n",
      "print yerr"
     ],
     "language": "python",
     "metadata": {},
     "outputs": [
      {
       "output_type": "stream",
       "stream": "stdout",
       "text": [
        "[ 0.  2.  4.  6.  8.]\n",
        "[ 1.1  1.9  3.2  4.   5.9]\n",
        "[ 0.1  0.2  0.1  0.3  0.3]\n"
       ]
      }
     ],
     "prompt_number": 4
    },
    {
     "cell_type": "code",
     "collapsed": false,
     "input": [
      "x,y= loadtxt(\"input.csv\",unpack=True,delimiter=\",\",usecols = [0,1])\n",
      "print x\n",
      "print y"
     ],
     "language": "python",
     "metadata": {},
     "outputs": [
      {
       "output_type": "stream",
       "stream": "stdout",
       "text": [
        "[ 0.  2.  4.  6.  8.]\n",
        "[ 1.1  1.9  3.2  4.   5.9]\n"
       ]
      }
     ],
     "prompt_number": 6
    },
    {
     "cell_type": "code",
     "collapsed": false,
     "input": [
      "t = array([0.0,0.1,0.2,0.3,0.4,0.5,0.6,0.7,0.8,0.9])\n",
      "v = array([0.137,0.456,0.519,0.713,0.859,0.926,1.139,1.327,1.512,1.875])\n",
      "\n",
      "p = array(0.15 + v/10.)\n",
      "\n",
      "print p"
     ],
     "language": "python",
     "metadata": {},
     "outputs": [
      {
       "output_type": "stream",
       "stream": "stdout",
       "text": [
        "[ 0.1637  0.1956  0.2019  0.2213  0.2359  0.2426  0.2639  0.2827  0.3012\n",
        "  0.3375]\n"
       ]
      }
     ],
     "prompt_number": 10
    },
    {
     "cell_type": "code",
     "collapsed": false,
     "input": [
      "DataOut = column_stack((t,p))\n",
      "savetxt(\"output.dat\",DataOut,fmt=(\"%3i\",\"%4.3f\"))"
     ],
     "language": "python",
     "metadata": {},
     "outputs": [],
     "prompt_number": 14
    },
    {
     "cell_type": "code",
     "collapsed": false,
     "input": [
      "f = open(\"output.dat\",\"w\")\n",
      "f.write(\"#Pressure in atmosphere vs. Voltage on sensor\"\n",
      "        \n",
      "        \"#data\\t\\p\")\n",
      "\n",
      "savetxt(\"output.dat\",DataOut,fmt=(\"%3i\",\"%4.3f\"))\n",
      "f.close()"
     ],
     "language": "python",
     "metadata": {},
     "outputs": [],
     "prompt_number": 18
    },
    {
     "cell_type": "markdown",
     "metadata": {},
     "source": [
      "Exercise 1\n",
      "===="
     ]
    },
    {
     "cell_type": "code",
     "collapsed": false,
     "input": [
      "t = array([1,2,3,4,5,6,7,8,9,10])\n",
      "x = array([7.75, 7.33,6.89,6.45,5.96,5.55,5.10,4.49,3.93,3.58])\n",
      "uncx = array([0.02,0.03,0.03,0.04,0.05,0.06,0.08,0.11,0.14,0.17])\n",
      "\n",
      "DataOut = column_stack((t,x,uncx))\n",
      "savetxt('linearData.dat', DataOut, fmt=('%3i', '%3.2f', '%3.2f'))\n",
      "\n",
      "\n",
      "\n",
      "f = open('LinearData.dat','w')\n",
      "f.write(\"#Time, Position, and Position uncertanty\\n\")\n",
      "f.write(\"#time, position, position uncertanty\\n\")\n",
      "savetxt(f, DataOut, fmt=('%3i', '%3.2f', '%3.2f'))\n",
      "f.close()\n",
      "\n",
      "f = open('LinearData.csv','w')\n",
      "f.write(\"#Time, Position, and Position uncertanty\\n\")\n",
      "f.write(\"#time, position, position uncertanty\\n\")\n",
      "savetxt(f, DataOut, delimiter=\",\",fmt=('%3i', '%3.2f', '%3.2f'))\n",
      "f.close()\n",
      "\n"
     ],
     "language": "python",
     "metadata": {},
     "outputs": [],
     "prompt_number": 2
    },
    {
     "cell_type": "markdown",
     "metadata": {},
     "source": [
      "Exercise 2\n",
      "===="
     ]
    },
    {
     "cell_type": "code",
     "collapsed": false,
     "input": [
      "def linleastsquaresfit(x,y):\n",
      "    m = (sum(x*y)-(sum(x)*sum(y)))/(sum(x**2)-sum(y**2))*(1/len(x))\n",
      "    b = (sum(x**2)*sum(y)-(sum(x)*sum(x*y)))/(sum(x**2)-(sum(y))**2)*(1/len(x))\n",
      "    delta = y-(m*x+b)\n",
      "    uncm = sqrt(1/(len(x)-2)*((sum(delta**2))/(sum(x**2)-(sum(x))**2)))\n",
      "    uncb = sqrt(1/(len(x)-2)*((sum(delta**2)*sum(x**2))/(sum(x**2)-(sum(x))**2)))\n",
      "    print \"m = \" + str(m)\n",
      "    print \"b = \" + str(b)\n",
      "    print \"uncertainty in m \" + str(uncm)\n",
      "    print \"uncertainty in b \" + str(uncb)\n",
      "    "
     ],
     "language": "python",
     "metadata": {},
     "outputs": [],
     "prompt_number": 4
    },
    {
     "cell_type": "code",
     "collapsed": false,
     "input": [
      "x,y= loadtxt(\"LinearData.csv\",unpack=True,delimiter=\",\",usecols = [0,1])\n",
      "print x\n",
      "print y\n",
      "\n",
      "print linleastsquaresfit(x,y)"
     ],
     "language": "python",
     "metadata": {},
     "outputs": [
      {
       "output_type": "stream",
       "stream": "stdout",
       "text": [
        "[  1.   2.   3.   4.   5.   6.   7.   8.   9.  10.]\n",
        "[ 7.75  7.33  6.89  6.45  5.96  5.55  5.1   4.49  3.93  3.58]\n",
        "m = -0\n",
        "b = -0\n",
        "uncertainty in m -0\n",
        "uncertainty in b -0\n",
        "None\n"
       ]
      }
     ],
     "prompt_number": 6
    },
    {
     "cell_type": "markdown",
     "metadata": {},
     "source": [
      "Exercise 3\n",
      "===="
     ]
    },
    {
     "cell_type": "code",
     "collapsed": false,
     "input": [
      "def weightedlinleastsqaresfit(x,y,w):\n",
      "    m = (sum(w)*sum(w*x*y)-sum(w*x)*sum(w*y))/(sum(w)*sum(w*x**2)-(sum(w*x))**2)\n",
      "    b = (sum(w*x**2)*sum(w*y)-sum(w*x)*sum(w*x*y))/(sum(w)*sum(w*x**2)-(sum(w*x))**2)\n",
      "    uncm = sqrt(sum(w)/(sum(w)*(sum(w*x**2)-(sum(w*x))**2)))\n",
      "    uncb = sqrt(sum(w*x**2)/(sum(w)*(sum(w*x**2)-(sum(w*x))**2)))\n",
      "    \n",
      "    print \"m = \" + str(m)\n",
      "    print \"b = \" + str(b)\n",
      "    print \"uncertainty in m \" + str(uncm)\n",
      "    print \"uncertainty in b \" + str(uncb)"
     ],
     "language": "python",
     "metadata": {},
     "outputs": [],
     "prompt_number": 28
    },
    {
     "cell_type": "code",
     "collapsed": false,
     "input": [],
     "language": "python",
     "metadata": {},
     "outputs": []
    }
   ],
   "metadata": {}
  }
 ]
}