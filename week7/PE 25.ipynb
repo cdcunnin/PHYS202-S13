def fibonacci(digits):
    one = 0
    two = 1
    start = 1
    f = 1
    while len(str(f)) < digits:
        one = two
        two = start
        f = f+1
    

print fibonacci(1000)

