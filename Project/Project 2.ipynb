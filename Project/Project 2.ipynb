{
 "metadata": {
  "name": "Project 2"
 },
 "nbformat": 3,
 "nbformat_minor": 0,
 "worksheets": [
  {
   "cells": [
    {
     "cell_type": "code",
     "collapsed": false,
     "input": [
      "import numpy as np\n",
      "\n",
      "\n",
      "\n",
      "\n",
      "def CA184(x, v, vmax, r):\n",
      "    g=zeros(array(x).shape,int)\n",
      "\n",
      "    for i in range(0,len(x)-1):\n",
      "        if i == len(x):\n",
      "            g[i]=x[1]\n",
      "        else:\n",
      "            g[i] = (x[i+1]-x[i])\n",
      "        if g[i]<0:\n",
      "            g[i]=0-g[i]\n",
      "\n",
      "\n",
      "    print \"v initial\" + str(v)\n",
      "    print \"x initial\" + str(x)\n",
      "    print \"g initial\" + str(g)\n",
      "    \n",
      "    for i in range(0,len(x)):\n",
      "        if v[i]>g[i]:\n",
      "            v[i]==g[i]\n",
      "        if v[i]<g[i] and v[i]<vmax:\n",
      "            v[i]= v[i]+1\n",
      "    return [v,x,g]\n",
      "x1 = np.random.randint(1,40,40)\n",
      "random.shuffle(x1)\n",
      "x=[x1[0],x1[1],x1[2],x1[3],x1[4]]\n",
      "\n",
      "v = np.random.randint(1,5,5)\n",
      "\n",
      "CA184(x,v,5,40)\n",
      "    "
     ],
     "language": "python",
     "metadata": {},
     "outputs": [
      {
       "output_type": "stream",
       "stream": "stdout",
       "text": [
        "v initial[1 3 3 1 3]\n",
        "x initial[3, 6, 14, 13, 15]\n",
        "g initial[3 8 1 2 0]\n"
       ]
      },
      {
       "output_type": "pyout",
       "prompt_number": 54,
       "text": [
        "[array([2, 4, 3, 2, 3]), [3, 6, 14, 13, 15], array([3, 8, 1, 2, 0])]"
       ]
      }
     ],
     "prompt_number": 54
    },
    {
     "cell_type": "code",
     "collapsed": false,
     "input": [
      "def STCA(x, v, vmax, r, p):\n",
      "    g=zeros(array(x).shape,int)\n",
      "\n",
      "    for i in range(0,len(x)-1):\n",
      "        if i == len(x):\n",
      "            g[i]=x[1]\n",
      "        else:\n",
      "            g[i] = (x[i+1]-x[i])\n",
      "        if g[i]<0:\n",
      "            g[i]=0-g[i]\n",
      "            \n",
      "    print \"v initial\" + str(v)\n",
      "    print \"x initial\" + str(x)\n",
      "    print \"g initial\" + str(g)\n",
      "    \n",
      "    for i in range(0,len(x)):\n",
      "        if v[i]>g[i]:\n",
      "            v[i]==g[i]\n",
      "        if v[i]<g[i] and v[i]<vmax:\n",
      "            v[i]= v[i]+1\n",
      "    \n",
      "    prob = np.random.random_sample(40)\n",
      "    for i in range(0,len(x)):\n",
      "        if prob[i]<p:\n",
      "            v[i] == v[i]-1\n",
      "            \n",
      "\n",
      "x1 = np.random.randint(1,40,40)\n",
      "random.shuffle(x1)\n",
      "x=[x1[0],x1[1],x1[2],x1[3],x1[4]]\n",
      "\n",
      "v = np.random.randint(1,5,5)\n",
      "\n",
      "STCA(x,v,5,40,0.76)"
     ],
     "language": "python",
     "metadata": {},
     "outputs": [
      {
       "output_type": "stream",
       "stream": "stdout",
       "text": [
        "v initial[4 3 4 4 4]\n",
        "x initial[33, 10, 27, 38, 21]\n",
        "g initial[23 17 11 17  0]\n"
       ]
      }
     ],
     "prompt_number": 55
    },
    {
     "cell_type": "code",
     "collapsed": false,
     "input": [
      "def ASEP(x, v, vmax, r):\n",
      "    \n",
      "    g=zeros(array(x).shape,int)\n",
      "\n",
      "    for i in range(0,len(x)-1):\n",
      "        if i == len(x):\n",
      "            g[i]=x[1]\n",
      "        else:\n",
      "            g[i] = (x[i+1]-x[i])\n",
      "        if g[i]<0:\n",
      "            g[i]=0-g[i]\n",
      "            \n",
      "    print \"v initial\" + str(v)\n",
      "    print \"x initial\" + str(x)\n",
      "    print \"g initial\" + str(g)\n",
      "    \n",
      "    order = np.random.randint(0,len(x)-1,len(x))\n",
      "    for n in order:\n",
      "        g[n] == x[n+1]-x[n]\n",
      "        if g[n]==0:\n",
      "            v[n]==0\n",
      "        if v[n]>g[n]:\n",
      "            v[n]==g[n]\n",
      "        if v[n]<g[n] and v[n]<vmax:\n",
      "            v[n] == v[n]+1\n",
      "    \n",
      "        x[n] = x[n]+v[n]\n",
      "    \n",
      "    return [v,x,g]\n",
      "\n",
      "x1 = np.random.randint(1,40,40)\n",
      "random.shuffle(x1)\n",
      "x=[x1[0],x1[1],x1[2],x1[3],x1[4]]\n",
      "\n",
      "v = np.random.randint(1,5,5)\n",
      "ASEP(x,v,5,40)"
     ],
     "language": "python",
     "metadata": {},
     "outputs": [
      {
       "output_type": "stream",
       "stream": "stdout",
       "text": [
        "v initial[3 4 1 4 3]\n",
        "x initial[22, 6, 29, 5, 31]\n",
        "g initial[16 23 24 26  0]\n"
       ]
      },
      {
       "output_type": "pyout",
       "prompt_number": 60,
       "text": [
        "[array([3, 4, 1, 4, 3]), [31, 6, 29, 13, 31], array([16, 23, 24, 26,  0])]"
       ]
      }
     ],
     "prompt_number": 60
    },
    {
     "cell_type": "code",
     "collapsed": false,
     "input": [],
     "language": "python",
     "metadata": {},
     "outputs": [],
     "prompt_number": 57
    },
    {
     "cell_type": "code",
     "collapsed": false,
     "input": [],
     "language": "python",
     "metadata": {},
     "outputs": []
    }
   ],
   "metadata": {}
  }
 ]
}