{
 "metadata": {
  "name": "Project 2"
 },
 "nbformat": 3,
 "nbformat_minor": 0,
 "worksheets": [
  {
   "cells": [
    {
     "cell_type": "code",
     "collapsed": false,
     "input": [
      "import numpy as np\n",
      "\n",
      "\n",
      "\n",
      "\n",
      "def CA184(x, v, r):\n",
      "    g=zeros(array(x).shape,int)\n",
      "    vmax = 5\n",
      "    for i in range(0,len(x)-1):\n",
      "        if i == len(x):\n",
      "            g[i]=x[1]\n",
      "        else:\n",
      "            g[i] = (x[i+1]-x[i])\n",
      "        if g[i]<0:\n",
      "            g[i]=0-g[i]\n",
      "\n",
      "\n",
      "    print \"v initial\" + str(v)\n",
      "    print \"x initial\" + str(x)\n",
      "    print \"g initial\" + str(g)\n",
      "    \n",
      "    for i in range(0,len(x)):\n",
      "        if v[i]>g[i]:\n",
      "            v[i]==g[i]\n",
      "        if v[i]<g[i] and v[i]<vmax:\n",
      "            v[i]= v[i]+1\n",
      "    return [v,x,g]\n",
      "\n",
      "x_ = range(1,40,1)\n",
      "random.shuffle(x_)\n",
      "\n",
      "\n",
      "x = [x_[0],x_[1],x_[2],x_[3],x_[4]]\n",
      "v = np.random.randint(1,5,5)\n",
      "\n",
      "CA184(x,v,40)\n",
      "    "
     ],
     "language": "python",
     "metadata": {},
     "outputs": [
      {
       "output_type": "stream",
       "stream": "stdout",
       "text": [
        "v initial[1 4 4 4 1]\n",
        "x initial[27, 24, 36, 25, 18]\n",
        "g initial[ 3 12 11  7  0]\n"
       ]
      },
      {
       "output_type": "pyout",
       "prompt_number": 7,
       "text": [
        "[array([2, 5, 5, 5, 1]), [27, 24, 36, 25, 18], array([ 3, 12, 11,  7,  0])]"
       ]
      }
     ],
     "prompt_number": 7
    },
    {
     "cell_type": "code",
     "collapsed": false,
     "input": [],
     "language": "python",
     "metadata": {},
     "outputs": []
    }
   ],
   "metadata": {}
  }
 ]
}