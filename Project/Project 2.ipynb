{
 "metadata": {
  "name": "Project 2"
 },
 "nbformat": 3,
 "nbformat_minor": 0,
 "worksheets": [
  {
   "cells": [
    {
     "cell_type": "markdown",
     "metadata": {},
     "source": [
      "Defining The functions: CA184, STCA, and ASEP rules\n",
      "====\n",
      "\n",
      "We're going to define the rules for three traffic models: stochastic traffic cellular automata (STCA), Cellular Automata rule 184 (CA184), and Asymmetric Stochastic Exclusion Principle (ASEP)."
     ]
    },
    {
     "cell_type": "code",
     "collapsed": false,
     "input": [
      "import numpy as np"
     ],
     "language": "python",
     "metadata": {},
     "outputs": [],
     "prompt_number": 6
    },
    {
     "cell_type": "markdown",
     "metadata": {},
     "source": [
      "CA184\n",
      "---"
     ]
    },
    {
     "cell_type": "code",
     "collapsed": false,
     "input": [
      "def CA184(x, v, vmax, r):\n",
      "    \n",
      "    \"\"\"This takes in the position array (x), velocity array (v), speed limit (vmax), and length of the road (r),\n",
      "    and returns the new position and velocity arrays after one time step based on CA184 guidelines.\"\"\"\n",
      "    \n",
      "    g=zeros(array(x).shape,int)\n",
      "\n",
      "    for i in range(0,len(x)-1):\n",
      "        if i == len(x):\n",
      "            g[i]=x[1]\n",
      "        else:\n",
      "            g[i] = (x[i+1]-x[i])\n",
      "        if g[i]<0:\n",
      "            g[i]=0-g[i]\n",
      "\n",
      "\n",
      "    print \"v initial\" + str(v)\n",
      "    print \"x initial\" + str(x)\n",
      "    print \"g initial\" + str(g)\n",
      "    \n",
      "    for i in range(0,len(x)):\n",
      "        if v[i]>g[i]:\n",
      "            v[i]==g[i]\n",
      "        if v[i]<g[i] and v[i]<vmax:\n",
      "            v[i]= v[i]+1\n",
      "    return [v,x,g]"
     ],
     "language": "python",
     "metadata": {},
     "outputs": [],
     "prompt_number": 7
    },
    {
     "cell_type": "markdown",
     "metadata": {},
     "source": [
      "Test: five cars\n",
      "----"
     ]
    },
    {
     "cell_type": "code",
     "collapsed": false,
     "input": [
      "x1 = np.random.randint(1,40,40)\n",
      "random.shuffle(x1)\n",
      "x=[x1[0],x1[1],x1[2],x1[3],x1[4]]\n",
      "\n",
      "v = np.random.randint(1,5,5)\n",
      "\n",
      "CA184(x,v,5,40)"
     ],
     "language": "python",
     "metadata": {},
     "outputs": [
      {
       "output_type": "stream",
       "stream": "stdout",
       "text": [
        "v initial[2 1 2 4 3]\n",
        "x initial[28, 24, 10, 39, 11]\n",
        "g initial[ 4 14 29 28  0]\n"
       ]
      },
      {
       "output_type": "pyout",
       "prompt_number": 8,
       "text": [
        "[array([3, 2, 3, 5, 3]), [28, 24, 10, 39, 11], array([ 4, 14, 29, 28,  0])]"
       ]
      }
     ],
     "prompt_number": 8
    },
    {
     "cell_type": "markdown",
     "metadata": {},
     "source": [
      "STCA\n",
      "----"
     ]
    },
    {
     "cell_type": "code",
     "collapsed": false,
     "input": [
      "def STCA(x, v, vmax, r, p):\n",
      "    \n",
      "    \"\"\"This takes in the position array (x), velocity array (v), speed limit (vmax), length of the road (r),\n",
      "    and probability of speed changing (p) and returns the new position and velocity arrays after one time step \n",
      "    based on STCA guidelines.\"\"\"\n",
      "    \n",
      "    g=zeros(array(x).shape,int)\n",
      "\n",
      "    for i in range(0,len(x)-1):\n",
      "        if i == len(x):\n",
      "            g[i]=x[1]\n",
      "        else:\n",
      "            g[i] = (x[i+1]-x[i])\n",
      "        if g[i]<0:\n",
      "            g[i]=0-g[i]\n",
      "            \n",
      "    print \"v initial\" + str(v)\n",
      "    print \"x initial\" + str(x)\n",
      "    print \"g initial\" + str(g)\n",
      "    \n",
      "    for i in range(0,len(x)):\n",
      "        if v[i]>g[i]:\n",
      "            v[i]==g[i]\n",
      "        if v[i]<g[i] and v[i]<vmax:\n",
      "            v[i]= v[i]+1\n",
      "    \n",
      "    prob = np.random.random_sample(40)\n",
      "    for i in range(0,len(x)):\n",
      "        if prob[i]<p:\n",
      "            v[i] == v[i]-1"
     ],
     "language": "python",
     "metadata": {},
     "outputs": [],
     "prompt_number": 9
    },
    {
     "cell_type": "markdown",
     "metadata": {},
     "source": [
      "Test: five cars\n",
      "----"
     ]
    },
    {
     "cell_type": "code",
     "collapsed": false,
     "input": [
      "x1 = np.random.randint(1,40,40)\n",
      "random.shuffle(x1)\n",
      "x=[x1[0],x1[1],x1[2],x1[3],x1[4]]\n",
      "\n",
      "v = np.random.randint(1,5,5)\n",
      "\n",
      "STCA(x,v,5,40,0.76)"
     ],
     "language": "python",
     "metadata": {},
     "outputs": []
    },
    {
     "cell_type": "markdown",
     "metadata": {},
     "source": [
      "ASEP\n",
      "----"
     ]
    },
    {
     "cell_type": "code",
     "collapsed": false,
     "input": [
      "def ASEP(x, v, vmax, r):\n",
      "    \n",
      "    \"\"\"This takes in the position array (x), velocity array (v), speed limit (vmax), and length of the road (r),\n",
      "    and returns the new position and velocity arrays after one time step based on ASEP guidelines.\"\"\"\n",
      "    \n",
      "    g=zeros(array(x).shape,int)\n",
      "\n",
      "    for i in range(0,len(x)-1):\n",
      "        if i == len(x):\n",
      "            g[i]=x[1]\n",
      "        else:\n",
      "            g[i] = (x[i+1]-x[i])\n",
      "        if g[i]<0:\n",
      "            g[i]=0-g[i]\n",
      "            \n",
      "    print \"v initial\" + str(v)\n",
      "    print \"x initial\" + str(x)\n",
      "    print \"g initial\" + str(g)\n",
      "    \n",
      "    order = np.random.randint(0,len(x)-1,len(x))\n",
      "    for n in order:\n",
      "        g[n] == x[n+1]-x[n]\n",
      "        if g[n]==0:\n",
      "            v[n]==0\n",
      "        if v[n]>g[n]:\n",
      "            v[n]==g[n]\n",
      "        if v[n]<g[n] and v[n]<vmax:\n",
      "            v[n] == v[n]+1\n",
      "    \n",
      "        x[n] = x[n]+v[n]\n",
      "    \n",
      "    return [v,x,g]"
     ],
     "language": "python",
     "metadata": {},
     "outputs": [],
     "prompt_number": 11
    },
    {
     "cell_type": "markdown",
     "metadata": {},
     "source": [
      "Test: five cars\n",
      "----"
     ]
    },
    {
     "cell_type": "code",
     "collapsed": false,
     "input": [
      "x1 = np.random.randint(1,40,40)\n",
      "random.shuffle(x1)\n",
      "x=[x1[0],x1[1],x1[2],x1[3],x1[4]]\n",
      "\n",
      "v = np.random.randint(1,5,5)\n",
      "ASEP(x,v,5,40)"
     ],
     "language": "python",
     "metadata": {},
     "outputs": [
      {
       "output_type": "stream",
       "stream": "stdout",
       "text": [
        "v initial[2 1 3 3 1]\n",
        "x initial[16, 2, 7, 15, 26]\n",
        "g initial[14  5  8 11  0]\n"
       ]
      },
      {
       "output_type": "pyout",
       "prompt_number": 12,
       "text": [
        "[array([2, 1, 3, 3, 1]), [20, 3, 13, 15, 26], array([14,  5,  8, 11,  0])]"
       ]
      }
     ],
     "prompt_number": 12
    },
    {
     "cell_type": "markdown",
     "metadata": {},
     "source": [
      "Create Initial Conditions\n",
      "===="
     ]
    },
    {
     "cell_type": "code",
     "collapsed": false,
     "input": [
      "def StartPlacement(n,L,vmax):\n",
      "    \n",
      "    \"\"\"\"This function takes in the number of cars (n), the length of the road (L), and speed limit (vmax) and returns a random \n",
      "    array of the position and velocity of each car at time t=0.\"\"\"\n",
      "    \n",
      "    cars = np.zeros(L)\n",
      "    places = np.random.randint(1,40,n)\n",
      "    for item in places:\n",
      "        cars[item]=np.random.randint(1,vmax,1)\n",
      "    return cars\n",
      "    \n",
      "\n",
      "    \n",
      "StartPlacement(5,40,5)\n",
      "    "
     ],
     "language": "python",
     "metadata": {},
     "outputs": [
      {
       "output_type": "pyout",
       "prompt_number": 32,
       "text": [
        "array([ 0.,  0.,  0.,  0.,  0.,  0.,  0.,  4.,  0.,  4.,  0.,  0.,  0.,\n",
        "        0.,  0.,  0.,  0.,  0.,  0.,  3.,  0.,  0.,  0.,  0.,  0.,  0.,\n",
        "        0.,  0.,  0.,  0.,  1.,  0.,  0.,  0.,  0.,  0.,  0.,  0.,  0.,  0.])"
       ]
      }
     ],
     "prompt_number": 32
    },
    {
     "cell_type": "code",
     "collapsed": false,
     "input": [
      "#Average velocity and car density at each time step, with N steps:\n",
      "\n",
      "def DensityAndAvgV(n,L,vmax,N):\n",
      "    \n",
      "    \"\"\"This takes in parameters for the StartPlacement function and returns the car density and the average \n",
      "    velocity at each time step for N time steps.\"\"\"\n",
      "    \n",
      "    for item in range(0,N):\n",
      "        v = StartPlacement(n,L,vmax)\n",
      "        avgv = (1./n)*sum(v)\n",
      "        \n",
      "        counter = 0\n",
      "        for p in v:\n",
      "            if p!=0.:\n",
      "                counter+=1\n",
      "        densities=counter*(1./L)\n",
      "        \n",
      "        \n",
      "        print \"average velocity, density at timestep \" + str(item) + \":  \" + str(avgv) + \",  \" + str(densities)\n",
      "        \n",
      "\n",
      "        \n",
      "        "
     ],
     "language": "python",
     "metadata": {},
     "outputs": [],
     "prompt_number": 73
    },
    {
     "cell_type": "code",
     "collapsed": false,
     "input": [
      "DensityAndAvgV(5,40,5,3)"
     ],
     "language": "python",
     "metadata": {},
     "outputs": [
      {
       "output_type": "stream",
       "stream": "stdout",
       "text": [
        "average velocity, density at timestep 0:  2.0,  0.125\n",
        "average velocity, density at timestep 1:  2.6,  0.1\n",
        "average velocity, density at timestep 2:  2.0,  0.125\n"
       ]
      }
     ],
     "prompt_number": 74
    },
    {
     "cell_type": "code",
     "collapsed": false,
     "input": [],
     "language": "python",
     "metadata": {},
     "outputs": []
    }
   ],
   "metadata": {}
  }
 ]
}