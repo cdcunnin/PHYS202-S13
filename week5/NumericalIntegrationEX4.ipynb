{
 "metadata": {
  "name": "NumericalIntegrationEX4"
 },
 "nbformat": 3,
 "nbformat_minor": 0,
 "worksheets": [
  {
   "cells": [
    {
     "cell_type": "markdown",
     "metadata": {},
     "source": [
      "Problem 1\n",
      "===="
     ]
    },
    {
     "cell_type": "code",
     "collapsed": false,
     "input": [
      "E = lambda t: e**(-t**2)\n",
      "\n",
      "x = arange(0,3,0.1)\n",
      "t = arange(0,x)"
     ],
     "language": "python",
     "metadata": {},
     "outputs": []
    }
   ],
   "metadata": {}
  }
 ]
}