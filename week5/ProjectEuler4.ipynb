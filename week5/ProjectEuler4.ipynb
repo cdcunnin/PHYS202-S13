{
 "metadata": {
  "name": "ProjectEuler4"
 },
 "nbformat": 3,
 "nbformat_minor": 0,
 "worksheets": [
  {
   "cells": [
    {
     "cell_type": "markdown",
     "metadata": {},
     "source": [
      "Largest Palindrome\n",
      "====\n",
      "Problem 4\n",
      "----\n",
      "\n",
      "\n",
      "A palindromic number reads the same both ways. The largest palindrome made from the product of two 2-digit numbers is 9009 = 91 \u00d7 99.\n",
      "\n",
      "Find the largest palindrome made from the product of two 3-digit numbers.\n"
     ]
    },
    {
     "cell_type": "code",
     "collapsed": false,
     "input": [
      "products = []\n",
      "\n",
      "for i in range(100,1000):\n",
      "   for k in range(100,1000):\n",
      "        product = i*k\n",
      "        if str(product) == str(product)[::-1]:\n",
      "            palinromes = products.append(product)\n",
      "            \n",
      "print max(products)"
     ],
     "language": "python",
     "metadata": {},
     "outputs": [
      {
       "output_type": "stream",
       "stream": "stdout",
       "text": [
        "906609\n"
       ]
      }
     ],
     "prompt_number": 28
    },
    {
     "cell_type": "code",
     "collapsed": false,
     "input": [],
     "language": "python",
     "metadata": {},
     "outputs": []
    }
   ],
   "metadata": {}
  }
 ]
}