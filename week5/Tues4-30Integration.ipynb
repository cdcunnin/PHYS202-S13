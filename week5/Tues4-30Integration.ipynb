{
 "metadata": {
  "name": "Tues4-30Integration"
 },
 "nbformat": 3,
 "nbformat_minor": 0,
 "worksheets": [
  {
   "cells": [
    {
     "cell_type": "markdown",
     "metadata": {},
     "source": [
      "Example 1\n",
      "===\n",
      "Trapezoidal rule\n",
      "---"
     ]
    },
    {
     "cell_type": "code",
     "collapsed": false,
     "input": [
      "y = lambda x: x**4 - 2*x + 1 #equation: y = x^4 - 2x + 1\n",
      "\n",
      "N = 10 #10 increments\n",
      "\n",
      "a = 0\n",
      "b = 2.0\n",
      "    #integrate from 0 to 2\n",
      "\n",
      "h = (b-a)/N #width of a trapezoid\n",
      "s = y(a)/2 + y(b)/2\n",
      "\n",
      "for k in range(1,N):\n",
      "    s += y(a+k*h)\n",
      "\n",
      "print(h*s)"
     ],
     "language": "python",
     "metadata": {},
     "outputs": [
      {
       "output_type": "stream",
       "stream": "stdout",
       "text": [
        "4.40656\n"
       ]
      }
     ],
     "prompt_number": 12
    },
    {
     "cell_type": "markdown",
     "metadata": {},
     "source": [
      "Exercise 1\n",
      "====\n",
      "Results for N=100 and N=1000\n",
      "----"
     ]
    },
    {
     "cell_type": "code",
     "collapsed": false,
     "input": [
      "# N=100 (100 increments)\n",
      "\n",
      "y = lambda x: x**4 - 2*x + 1 \n",
      "N = 100\n",
      "a = 0.\n",
      "b = 2.\n",
      "h = (b-a)/N\n",
      "s = y(a)/2 + y(b)/2\n",
      "for k in range(1,N):\n",
      "    s += y(a+k*h)\n",
      "result1 = h*s\n",
      "print result1"
     ],
     "language": "python",
     "metadata": {},
     "outputs": [
      {
       "output_type": "stream",
       "stream": "stdout",
       "text": [
        "4.401066656\n"
       ]
      }
     ],
     "prompt_number": 91
    },
    {
     "cell_type": "code",
     "collapsed": false,
     "input": [
      "# N=1000 (1000 increments)\n",
      "\n",
      "y = lambda x: x**4 - 2*x + 1 #equation: y = x^4 - 2x + 1\n",
      "N = 1000 \n",
      "a = 0.\n",
      "b = 2.\n",
      "h = (b-a)/N \n",
      "s = y(a)/2 + y(b)/2\n",
      "for k in range(1,N):\n",
      "    s += y(a+k*h)\n",
      "result2 = h*s\n",
      "print result2"
     ],
     "language": "python",
     "metadata": {},
     "outputs": [
      {
       "output_type": "stream",
       "stream": "stdout",
       "text": [
        "4.40001066667\n"
       ]
      }
     ],
     "prompt_number": 93
    },
    {
     "cell_type": "markdown",
     "metadata": {},
     "source": [
      "Exercise 2\n",
      "====\n",
      "Simpson's Rule\n",
      "----"
     ]
    },
    {
     "cell_type": "code",
     "collapsed": false,
     "input": [
      "#A)\n",
      "\n",
      "y = lambda x: x**4 - 2*x + 1\n",
      "\n",
      "N = 10\n",
      "a = 0.\n",
      "b = 2.\n",
      "\n",
      "h = (b-a)/(N)\n",
      "\n",
      "s = y(a) + y(b)\n",
      "\n",
      "sumone = 0\n",
      "sumtwo = 0\n",
      "\n",
      "for k in range(1,N/2+1):\n",
      "    sumone += (y(a + ((2*k)-1)*h))\n",
      "for i in range(1,N/2):\n",
      "    sumtwo += (y(a + 2*i*h))\n",
      "\n",
      "result = (h/3)*(s + 4*sumone + 2*sumtwo)\n",
      "\n",
      "print result\n"
     ],
     "language": "python",
     "metadata": {},
     "outputs": [
      {
       "output_type": "stream",
       "stream": "stdout",
       "text": [
        "4.40042666667\n"
       ]
      }
     ],
     "prompt_number": 84
    },
    {
     "cell_type": "code",
     "collapsed": false,
     "input": [
      "#B)\n",
      "\n",
      "#Actual value: 22/5 = 4.4\n",
      "#Result = 4.40042666667\n",
      "\n",
      "error = (result - 4.4)/4.4\n",
      "\n",
      "print error"
     ],
     "language": "python",
     "metadata": {},
     "outputs": [
      {
       "output_type": "stream",
       "stream": "stdout",
       "text": [
        "9.69696969697e-05\n"
       ]
      }
     ],
     "prompt_number": 86
    },
    {
     "cell_type": "code",
     "collapsed": false,
     "input": [
      "#C) N = 100\n",
      "\n",
      "y = lambda x: x**4 - 2*x + 1\n",
      "\n",
      "N = 100\n",
      "a = 0.\n",
      "b = 2.\n",
      "\n",
      "h = (b-a)/(N)\n",
      "\n",
      "s = y(a) + y(b)\n",
      "\n",
      "sumone = 0\n",
      "sumtwo = 0\n",
      "\n",
      "for k in range(1,N/2+1):\n",
      "    sumone += (y(a + ((2*k)-1)*h))\n",
      "for i in range(1,N/2):\n",
      "    sumtwo += (y(a + 2*i*h))\n",
      "\n",
      "result3 = (h/3)*(s + 4*sumone + 2*sumtwo)\n",
      "\n",
      "print result3\n",
      "\n",
      "\n",
      "\n"
     ],
     "language": "python",
     "metadata": {},
     "outputs": [
      {
       "output_type": "stream",
       "stream": "stdout",
       "text": [
        "4.40000004267\n"
       ]
      }
     ],
     "prompt_number": 94
    },
    {
     "cell_type": "code",
     "collapsed": false,
     "input": [
      "#C) N = 1000\n",
      "\n",
      "y = lambda x: x**4 - 2*x + 1\n",
      "\n",
      "N = 1000\n",
      "a = 0.\n",
      "b = 2.\n",
      "\n",
      "h = (b-a)/(N)\n",
      "\n",
      "s = y(a) + y(b)\n",
      "\n",
      "sumone = 0\n",
      "sumtwo = 0\n",
      "\n",
      "for k in range(1,N/2+1):\n",
      "    sumone += (y(a + ((2*k)-1)*h))\n",
      "for i in range(1,N/2):\n",
      "    sumtwo += (y(a + 2*i*h))\n",
      "\n",
      "result4 = (h/3)*(s + 4*sumone + 2*sumtwo)\n",
      "\n",
      "print result4\n"
     ],
     "language": "python",
     "metadata": {},
     "outputs": [
      {
       "output_type": "stream",
       "stream": "stdout",
       "text": [
        "4.4\n"
       ]
      }
     ],
     "prompt_number": 99
    },
    {
     "cell_type": "code",
     "collapsed": false,
     "input": [
      "#C) Versus trap rule\n",
      "\n",
      "#N=100: \n",
      "\n",
      "error100 = (result1-result3)/result1\n",
      "print error100\n",
      "\n",
      "error1000 = (result2 - result4)/result2\n",
      "print error1000"
     ],
     "language": "python",
     "metadata": {},
     "outputs": [
      {
       "output_type": "stream",
       "stream": "stdout",
       "text": [
        "0.000242353369467\n",
        "2.42423533528e-06\n"
       ]
      }
     ],
     "prompt_number": 100
    },
    {
     "cell_type": "markdown",
     "metadata": {},
     "source": [
      "Exercise 3\n",
      "====\n",
      "General integration\n",
      "----"
     ]
    },
    {
     "cell_type": "markdown",
     "metadata": {},
     "source": [
      "A) \n",
      "The code given is imprecise because it calculates the integral from only three points. The linspace parameter in theta produces only 3 values: 0, 0.15, and 0.3. This is because the number of steps in the linspace is pi, which is rounded off to 3 steps. The answer is then further inaccurate by using the trapezoidal rule."
     ]
    },
    {
     "cell_type": "code",
     "collapsed": false,
     "input": [
      "#Let's look at what's going on with theta.\n",
      "\n",
      "theta = linspace(0,0.3,pi)\n",
      "print theta"
     ],
     "language": "python",
     "metadata": {},
     "outputs": [
      {
       "output_type": "stream",
       "stream": "stdout",
       "text": [
        "[ 0.    0.15  0.3 ]\n"
       ]
      }
     ],
     "prompt_number": 101
    },
    {
     "cell_type": "code",
     "collapsed": false,
     "input": [
      "import scipy.integrate as integrate\n",
      "\n",
      "theta = linspace(0,0.3,1*(10*5))\n",
      "Iright = integrate.trapz(theta,cos(theta))\n",
      "\n",
      "print Iright"
     ],
     "language": "python",
     "metadata": {},
     "outputs": [
      {
       "output_type": "stream",
       "stream": "stdout",
       "text": [
        "-0.00891833680707\n"
       ]
      }
     ],
     "prompt_number": 4
    },
    {
     "cell_type": "markdown",
     "metadata": {},
     "source": [
      "***Oh, wow! Exercise 3 has mysteriously changed!***"
     ]
    },
    {
     "cell_type": "markdown",
     "metadata": {},
     "source": [
      "New Excercise 3\n",
      "====\n"
     ]
    },
    {
     "cell_type": "code",
     "collapsed": false,
     "input": [
      "data = loadtxt(\"velocities.txt\",float)\n"
     ],
     "language": "python",
     "metadata": {},
     "outputs": [],
     "prompt_number": 5
    },
    {
     "cell_type": "code",
     "collapsed": false,
     "input": [
      "import scipy.integrate as integrate\n",
      "\n",
      "x = data[:,0]\n",
      "y = data[:,1]\n",
      "\n",
      "trapz = integrate.trapz(x,y)\n",
      "romb = integrate.romb(x,t)\n",
      "simps = integrate.simps(x,y)\n",
      "\n",
      "print trapz\n",
      "print romb\n",
      "print simps"
     ],
     "language": "python",
     "metadata": {},
     "outputs": [
      {
       "ename": "AttributeError",
       "evalue": "'numpy.ndarray' object has no attribute 'range'",
       "output_type": "pyerr",
       "traceback": [
        "\u001b[1;31m---------------------------------------------------------------------------\u001b[0m\n\u001b[1;31mAttributeError\u001b[0m                            Traceback (most recent call last)",
        "\u001b[1;32m<ipython-input-20-6e02f0f4ec6c>\u001b[0m in \u001b[0;36m<module>\u001b[1;34m()\u001b[0m\n\u001b[0;32m      3\u001b[0m \u001b[0mx\u001b[0m \u001b[1;33m=\u001b[0m \u001b[0mdata\u001b[0m\u001b[1;33m[\u001b[0m\u001b[1;33m:\u001b[0m\u001b[1;33m,\u001b[0m\u001b[1;36m0\u001b[0m\u001b[1;33m]\u001b[0m\u001b[1;33m\u001b[0m\u001b[0m\n\u001b[0;32m      4\u001b[0m \u001b[0my\u001b[0m \u001b[1;33m=\u001b[0m \u001b[0mdata\u001b[0m\u001b[1;33m[\u001b[0m\u001b[1;33m:\u001b[0m\u001b[1;33m,\u001b[0m\u001b[1;36m1\u001b[0m\u001b[1;33m]\u001b[0m\u001b[1;33m\u001b[0m\u001b[0m\n\u001b[1;32m----> 5\u001b[1;33m \u001b[0mt\u001b[0m \u001b[1;33m=\u001b[0m \u001b[1;36m2\u001b[0m\u001b[1;33m*\u001b[0m\u001b[0my\u001b[0m\u001b[1;33m.\u001b[0m\u001b[0mrange\u001b[0m\u001b[1;33m(\u001b[0m\u001b[1;36m0\u001b[0m\u001b[1;33m,\u001b[0m\u001b[1;36m50\u001b[0m\u001b[1;33m)\u001b[0m\u001b[1;33m\u001b[0m\u001b[0m\n\u001b[0m\u001b[0;32m      6\u001b[0m \u001b[1;33m\u001b[0m\u001b[0m\n\u001b[0;32m      7\u001b[0m \u001b[0mtrapz\u001b[0m \u001b[1;33m=\u001b[0m \u001b[0mintegrate\u001b[0m\u001b[1;33m.\u001b[0m\u001b[0mtrapz\u001b[0m\u001b[1;33m(\u001b[0m\u001b[0mx\u001b[0m\u001b[1;33m,\u001b[0m\u001b[0my\u001b[0m\u001b[1;33m)\u001b[0m\u001b[1;33m\u001b[0m\u001b[0m\n",
        "\u001b[1;31mAttributeError\u001b[0m: 'numpy.ndarray' object has no attribute 'range'"
       ]
      }
     ],
     "prompt_number": 20
    },
    {
     "cell_type": "code",
     "collapsed": false,
     "input": [],
     "language": "python",
     "metadata": {},
     "outputs": []
    }
   ],
   "metadata": {}
  }
 ]
}