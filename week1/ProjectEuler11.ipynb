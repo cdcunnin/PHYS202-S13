{
 "metadata": {
  "name": "Project Euler 1"
 },
 "nbformat": 3,
 "nbformat_minor": 0,
 "worksheets": [
  {
   "cells": [
    {
     "cell_type": "markdown",
     "metadata": {},
     "source": [
      "Euler Problem 1:\n",
      "--------------\n",
      "Multiples of 3 and 5\n",
      "========\n",
      "\n",
      "\n",
      "\n"
     ]
    },
    {
     "cell_type": "code",
     "collapsed": false,
     "input": [
      "sum1 = 0\n",
      "for i in range(1000): \n",
      "    if i % 3 == 0 or i % 5 == 0:\n",
      "        sum1 += i\n",
      "        \n",
      "print sum1\n",
      "        \n",
      "    "
     ],
     "language": "python",
     "metadata": {},
     "outputs": [
      {
       "output_type": "stream",
       "stream": "stdout",
       "text": [
        "233168\n"
       ]
      }
     ],
     "prompt_number": 21
    }
   ],
   "metadata": {}
  }
 ]
}